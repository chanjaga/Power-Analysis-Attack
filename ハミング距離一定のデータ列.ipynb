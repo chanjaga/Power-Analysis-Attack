{
  "nbformat": 4,
  "nbformat_minor": 0,
  "metadata": {
    "colab": {
      "provenance": [],
      "authorship_tag": "ABX9TyOtxXDKzXGIO85aU6SsTsWl",
      "include_colab_link": true
    },
    "kernelspec": {
      "name": "python3",
      "display_name": "Python 3"
    },
    "language_info": {
      "name": "python"
    }
  },
  "cells": [
    {
      "cell_type": "markdown",
      "metadata": {
        "id": "view-in-github",
        "colab_type": "text"
      },
      "source": [
        "<a href=\"https://colab.research.google.com/github/chanjaga/Power-Analysis-Attack/blob/main/%E3%83%8F%E3%83%9F%E3%83%B3%E3%82%B0%E8%B7%9D%E9%9B%A2%E4%B8%80%E5%AE%9A%E3%81%AE%E3%83%87%E3%83%BC%E3%82%BF%E5%88%97.ipynb\" target=\"_parent\"><img src=\"https://colab.research.google.com/assets/colab-badge.svg\" alt=\"Open In Colab\"/></a>"
      ]
    },
    {
      "cell_type": "code",
      "execution_count": 13,
      "metadata": {
        "id": "lkVFjGpcyqsY",
        "outputId": "9c5fe7ee-c663-471b-cccf-4fbdf4dddf43",
        "colab": {
          "base_uri": "https://localhost:8080/"
        }
      },
      "outputs": [
        {
          "output_type": "stream",
          "name": "stdout",
          "text": [
            "11001111101111000100001111101110\n",
            "00110000010000111011110010010011\n",
            "11001111101101000100001001101100\n",
            "00110010110010111011110110010011\n",
            "11001101001101000101001001101110\n",
            "00110000111010111010110110010001\n",
            "11001111000101000101001011101010\n",
            "00011000111010111010110100010101\n",
            "11100111010101010101001011101010\n",
            "00011010101010101010100100010101\n"
          ]
        }
      ],
      "source": [
        "#隣接するビット列のハミング距離が一定のデータ列生成\n",
        "import random\n",
        "\n",
        "#ビット列の長さを指定\n",
        "bit_length = 32\n",
        "\n",
        "#生成するビット列の個数を指定\n",
        "generate_times = 10\n",
        "\n",
        "#隣接するビット列間のハミング距離を指定\n",
        "hamming_distance = 30\n",
        "\n",
        "#隣接するビット列のハミング距離が一定のデータ列生成\n",
        "def ham(bit_length, generate_times, hamming_distance):\n",
        "  #初期値を乱数で生成\n",
        "  bitstream = [random.randint(0,1) for _ in range(bit_length)]\n",
        "  for _ in range(generate_times):\n",
        "\n",
        "    #反転箇所を指定するためのインデックス値生成\n",
        "    data_index = [i for i in range(bit_length)]                       \n",
        "    for _ in range(hamming_distance):\n",
        "\n",
        "      #反転箇所を乱数で指定\n",
        "      reversal_index = data_index.pop(random.randint(0,len(data_index)-1))\n",
        "\n",
        "      #指定箇所のビット値を反転 \n",
        "      bitstream[reversal_index] = abs(bitstream[reversal_index] - 1)            \n",
        "    print(\"\".join(map(str,bitstream)))\n",
        "\n",
        "#実行\n",
        "if hamming_distance <= bit_length:\n",
        "  ham(bit_length, generate_times, hamming_distance)\n",
        "else:\n",
        "  print(\"***bit_length must be longer than hamming_distance***\")"
      ]
    }
  ]
}