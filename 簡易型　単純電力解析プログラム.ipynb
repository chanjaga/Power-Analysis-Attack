{
  "nbformat": 4,
  "nbformat_minor": 0,
  "metadata": {
    "colab": {
      "provenance": [],
      "authorship_tag": "ABX9TyNuGBKCpS8SeLKHOvyS3HR2",
      "include_colab_link": true
    },
    "kernelspec": {
      "name": "python3",
      "display_name": "Python 3"
    },
    "language_info": {
      "name": "python"
    }
  },
  "cells": [
    {
      "cell_type": "markdown",
      "metadata": {
        "id": "view-in-github",
        "colab_type": "text"
      },
      "source": [
        "<a href=\"https://colab.research.google.com/github/chanjaga/Power-Analysis-Attack/blob/main/%E7%B0%A1%E6%98%93%E5%9E%8B%E3%80%80%E5%8D%98%E7%B4%94%E9%9B%BB%E5%8A%9B%E8%A7%A3%E6%9E%90%E3%83%97%E3%83%AD%E3%82%B0%E3%83%A9%E3%83%A0.ipynb\" target=\"_parent\"><img src=\"https://colab.research.google.com/assets/colab-badge.svg\" alt=\"Open In Colab\"/></a>"
      ]
    },
    {
      "cell_type": "code",
      "execution_count": 51,
      "metadata": {
        "id": "sJkjB6fk3wj-"
      },
      "outputs": [],
      "source": [
        "#簡易型　単純電力解析（SPA）\n",
        "import itertools\n",
        "import random as rand\n",
        "import matplotlib.pyplot as plt\n",
        "from scipy.spatial import distance"
      ]
    },
    {
      "cell_type": "code",
      "source": [
        "#平文\n",
        "plaintext = [1,1,1,0,0,1,1,0]\n",
        "\n",
        "#観測リーケージ\n",
        "obs_leakage = rand.uniform(0,256)"
      ],
      "metadata": {
        "id": "Fs_G_6j07cHz"
      },
      "execution_count": 52,
      "outputs": []
    },
    {
      "cell_type": "code",
      "source": [
        "#リーケージモデル\n",
        "def leakage_model(plaintext,pre_round_key):\n",
        "  leakage = [0]*2**8\n",
        "  for i in range(2**8):\n",
        "    leakage[i] = distance.hamming(plaintext, pre_round_key[i]) + i*1 \n",
        "  return leakage"
      ],
      "metadata": {
        "id": "A28eKAjh7_Pi"
      },
      "execution_count": 53,
      "outputs": []
    },
    {
      "cell_type": "code",
      "source": [
        "#8bit予測鍵の生成\n",
        "pre_round_key = [list(i) for i in itertools.product([0, 1], repeat=8)]"
      ],
      "metadata": {
        "id": "W4fxgo90_p7D"
      },
      "execution_count": 54,
      "outputs": []
    },
    {
      "cell_type": "code",
      "source": [
        "#リーケージモデルに基づいた予測リーケージの生成\n",
        "pre_leakage = leakage_model(plaintext,pre_round_key)"
      ],
      "metadata": {
        "id": "IRRXw8tSADkA"
      },
      "execution_count": 55,
      "outputs": []
    },
    {
      "cell_type": "code",
      "source": [
        "#単純電力解析\n",
        "def spa(obs_leakage,pre_leakage):\n",
        "  cal = [0]*2**8\n",
        "  for i in range(2**8):\n",
        "      cal[i] = abs(obs_leakage - pre_leakage[i])\n",
        "  plt.plot(cal)\n",
        "  result_index = cal.index(min(cal))\n",
        "  return result_index\n"
      ],
      "metadata": {
        "id": "MPcUhYKgBy3x"
      },
      "execution_count": 56,
      "outputs": []
    },
    {
      "cell_type": "code",
      "source": [
        "#解析実行\n",
        "result_index = spa(obs_leakage,pre_leakage)\n",
        "result = pre_round_key[result_index]\n",
        "#解析結果\n",
        "print(f\"ラウンド鍵は{result}です\")"
      ],
      "metadata": {
        "id": "fEklRbX1NNX0",
        "outputId": "b99f97b9-4c8c-4e1d-a9a4-6cbc587a84dc",
        "colab": {
          "base_uri": "https://localhost:8080/",
          "height": 286
        }
      },
      "execution_count": 57,
      "outputs": [
        {
          "output_type": "stream",
          "name": "stdout",
          "text": [
            "ラウンド鍵は[1, 0, 0, 1, 1, 0, 0, 1]です\n"
          ]
        },
        {
          "output_type": "display_data",
          "data": {
            "text/plain": [
              "<Figure size 432x288 with 1 Axes>"
            ],
            "image/png": "[encoded data removed]"
          },
          "metadata": {
            "needs_background": "light"
          }
        }
      ]
    },
    {
      "cell_type": "code",
      "source": [],
      "metadata": {
        "id": "zCk_Af-WJGI5"
      },
      "execution_count": null,
      "outputs": []
    }
  ]
}