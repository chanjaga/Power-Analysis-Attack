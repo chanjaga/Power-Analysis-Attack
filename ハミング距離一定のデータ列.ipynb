{
  "nbformat": 4,
  "nbformat_minor": 0,
  "metadata": {
    "colab": {
      "provenance": [],
      "authorship_tag": "ABX9TyN40qoC2R27P0/Amk80zCTt",
      "include_colab_link": true
    },
    "kernelspec": {
      "name": "python3",
      "display_name": "Python 3"
    },
    "language_info": {
      "name": "python"
    }
  },
  "cells": [
    {
      "cell_type": "markdown",
      "metadata": {
        "id": "view-in-github",
        "colab_type": "text"
      },
      "source": [
        "<a href=\"https://colab.research.google.com/github/chanjaga/Power-Analysis-Attack/blob/main/%E3%83%8F%E3%83%9F%E3%83%B3%E3%82%B0%E8%B7%9D%E9%9B%A2%E4%B8%80%E5%AE%9A%E3%81%AE%E3%83%87%E3%83%BC%E3%82%BF%E5%88%97.ipynb\" target=\"_parent\"><img src=\"https://colab.research.google.com/assets/colab-badge.svg\" alt=\"Open In Colab\"/></a>"
      ]
    },
    {
      "cell_type": "code",
      "execution_count": 1,
      "metadata": {
        "id": "lkVFjGpcyqsY",
        "outputId": "7e2d7027-ad2d-453c-bd8b-fe55631c1af5",
        "colab": {
          "base_uri": "https://localhost:8080/"
        }
      },
      "outputs": [
        {
          "output_type": "stream",
          "name": "stdout",
          "text": [
            "10100000\n",
            "10010111\n",
            "01101111\n",
            "00110001\n",
            "01101010\n",
            "10001111\n",
            "01010011\n",
            "00101111\n",
            "10110001\n",
            "01000011\n",
            "11010100\n",
            "10000011\n",
            "01100101\n",
            "11010000\n",
            "10100110\n"
          ]
        }
      ],
      "source": [
        "#隣接するビット列のハミング距離が一定のデータ列生成\n",
        "import random\n",
        "\n",
        "#隣接するビット列間のハミング距離を指定\n",
        "hamming_distance = 5\n",
        "\n",
        "#生成するビット列の個数を指定\n",
        "generate_times = 15\n",
        "\n",
        "#初期値(8bit)\n",
        "bitstream = \"\"\n",
        "bitstream = [random.randint(0,1) for i in range(8)]\n",
        "\n",
        "#隣接するビット列のハミング距離が一定のデータ列生成\n",
        "def ham(bitstream, hamming_distance, generate_times):\n",
        "  for _ in range(generate_times):\n",
        "    data_index = [0,1,2,3,4,5,6,7]\n",
        "    for _ in range(hamming_distance):\n",
        "      ham_index = data_index.pop(random.randint(0,len(data_index)-1)) #反転箇所を乱数で指定\n",
        "      bitstream[ham_index] = abs(bitstream[ham_index] - 1)\n",
        "    print(\"\".join(map(str,bitstream)))\n",
        "\n",
        "#実行\n",
        "ham(bitstream, hamming_distance, generate_times)"
      ]
    }
  ]
}