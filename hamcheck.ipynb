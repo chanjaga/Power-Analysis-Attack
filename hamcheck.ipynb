{
  "nbformat": 4,
  "nbformat_minor": 0,
  "metadata": {
    "colab": {
      "provenance": [],
      "authorship_tag": "ABX9TyP6mj8mEOcRwmFy6juNLkj7",
      "include_colab_link": true
    },
    "kernelspec": {
      "name": "python3",
      "display_name": "Python 3"
    },
    "language_info": {
      "name": "python"
    }
  },
  "cells": [
    {
      "cell_type": "markdown",
      "metadata": {
        "id": "view-in-github",
        "colab_type": "text"
      },
      "source": [
        "<a href=\"https://colab.research.google.com/github/chanjaga/Power-Analysis-Attack/blob/main/hamcheck.ipynb\" target=\"_parent\"><img src=\"https://colab.research.google.com/assets/colab-badge.svg\" alt=\"Open In Colab\"/></a>"
      ]
    },
    {
      "cell_type": "code",
      "source": [
        "import itertools\n",
        "import numpy as np\n",
        "     \n",
        "pre_data = [list(i) for i in itertools.product([0, 1], repeat=8)]\n",
        "data = [list(i) for i in itertools.product([0, 1], repeat=8)]\n",
        "     \n",
        "select_index_1 = np.random.randint(0,255)\n",
        "select_index_2 = np.random.randint(0,255)  \n",
        "pre_ham = 0\n",
        "after_ham = 0\n",
        "     \n",
        "print(f\"pre_data:{pre_data[select_index_1]}\")\n",
        "print(f\"data:    {data[select_index_2]}\")\n",
        "     \n",
        "for i in range(8):\n",
        "  if pre_data[select_index_1][i] != data[select_index_2][i]:\n",
        "    pre_ham += 1\n",
        "print(f\"pre_ham:{pre_ham}\")\n",
        "     \n",
        "pre_ham:3\n",
        "\n",
        "for i in range(8):\n",
        "  if data[select_index_2][i] == 1:\n",
        "    data[select_index_2][i] = 0\n",
        "  else:\n",
        "    data[select_index_2][i] = 1\n",
        "print(f\"data:    {data[select_index_2]}\")\n",
        "\n",
        "for i in range(8):\n",
        "  if pre_data[select_index_1][i] != data[select_index_2][i]:\n",
        "    after_ham += 1\n",
        "print(f\"after_ham:{after_ham}\")    \n",
        "     \n",
        "after_ham:6\n",
        "\n",
        "if pre_ham + after_ham == 8:\n",
        "  print(\"Yes\")"
      ],
      "metadata": {
        "colab": {
          "base_uri": "https://localhost:8080/"
        },
        "id": "OfSrGHuyY0vH",
        "outputId": "ba22d4f8-c7e4-4862-e4b9-92c31f321991"
      },
      "execution_count": 145,
      "outputs": [
        {
          "output_type": "stream",
          "name": "stdout",
          "text": [
            "pre_data:[0, 1, 1, 0, 0, 1, 0, 0]\n",
            "data:    [0, 0, 0, 0, 1, 0, 1, 1]\n",
            "pre_ham:6\n",
            "data:    [1, 1, 1, 1, 0, 1, 0, 0]\n",
            "after_ham:2\n",
            "Yes\n"
          ]
        }
      ]
    }
  ]
}