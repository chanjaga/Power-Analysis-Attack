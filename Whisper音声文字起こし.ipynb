{
  "nbformat": 4,
  "nbformat_minor": 0,
  "metadata": {
    "colab": {
      "provenance": [],
      "authorship_tag": "ABX9TyPEG6X7yCpLZSBwguJ7n1ig",
      "include_colab_link": true
    },
    "kernelspec": {
      "name": "python3",
      "display_name": "Python 3"
    },
    "language_info": {
      "name": "python"
    },
    "accelerator": "GPU",
    "gpuClass": "standard"
  },
  "cells": [
    {
      "cell_type": "markdown",
      "metadata": {
        "id": "view-in-github",
        "colab_type": "text"
      },
      "source": [
        "<a href=\"https://colab.research.google.com/github/chanjaga/Power-Analysis-Attack/blob/main/Whisper%E9%9F%B3%E5%A3%B0%E6%96%87%E5%AD%97%E8%B5%B7%E3%81%93%E3%81%97.ipynb\" target=\"_parent\"><img src=\"https://colab.research.google.com/assets/colab-badge.svg\" alt=\"Open In Colab\"/></a>"
      ]
    },
    {
      "cell_type": "code",
      "source": [
        "#実行に必要な準備\n",
        "#①左のファイルバーからcontentsフォルダを探し，そこに音声ファイルをアップロードしておく\n",
        "#②アクセラレータをGPUに設定しておく"
      ],
      "metadata": {
        "id": "S3AABqmpXf6p"
      },
      "execution_count": null,
      "outputs": []
    },
    {
      "cell_type": "code",
      "source": [
        "!pip install git+https://github.com/openai/whisper.git\n",
        "!apt install ffmpeg\n",
        "!pip install pydub"
      ],
      "metadata": {
        "colab": {
          "base_uri": "https://localhost:8080/"
        },
        "id": "s5lGxbpqUzF8",
        "outputId": "86c0342b-0f7f-4294-eb8c-d0d6acfb8808"
      },
      "execution_count": 14,
      "outputs": [
        {
          "output_type": "stream",
          "name": "stdout",
          "text": [
            "Looking in indexes: https://pypi.org/simple, https://us-python.pkg.dev/colab-wheels/public/simple/\n",
            "Collecting git+https://github.com/openai/whisper.git\n",
            "  Cloning https://github.com/openai/whisper.git to /tmp/pip-req-build-ab56rj0n\n",
            "  Running command git clone --filter=blob:none --quiet https://github.com/openai/whisper.git /tmp/pip-req-build-ab56rj0n\n",
            "  Resolved https://github.com/openai/whisper.git to commit c09a7ae299c4c34c5839a76380ae407e7d785914\n",
            "  Installing build dependencies ... \u001b[?25l\u001b[?25hdone\n",
            "  Getting requirements to build wheel ... \u001b[?25l\u001b[?25hdone\n",
            "  Preparing metadata (pyproject.toml) ... \u001b[?25l\u001b[?25hdone\n",
            "Requirement already satisfied: triton==2.0.0 in /usr/local/lib/python3.10/dist-packages (from openai-whisper==20230314) (2.0.0)\n",
            "Requirement already satisfied: numba in /usr/local/lib/python3.10/dist-packages (from openai-whisper==20230314) (0.56.4)\n",
            "Requirement already satisfied: numpy in /usr/local/lib/python3.10/dist-packages (from openai-whisper==20230314) (1.22.4)\n",
            "Requirement already satisfied: torch in /usr/local/lib/python3.10/dist-packages (from openai-whisper==20230314) (2.0.0+cu118)\n",
            "Requirement already satisfied: tqdm in /usr/local/lib/python3.10/dist-packages (from openai-whisper==20230314) (4.65.0)\n",
            "Requirement already satisfied: more-itertools in /usr/local/lib/python3.10/dist-packages (from openai-whisper==20230314) (9.1.0)\n",
            "Requirement already satisfied: tiktoken==0.3.1 in /usr/local/lib/python3.10/dist-packages (from openai-whisper==20230314) (0.3.1)\n",
            "Requirement already satisfied: ffmpeg-python==0.2.0 in /usr/local/lib/python3.10/dist-packages (from openai-whisper==20230314) (0.2.0)\n",
            "Requirement already satisfied: future in /usr/local/lib/python3.10/dist-packages (from ffmpeg-python==0.2.0->openai-whisper==20230314) (0.18.3)\n",
            "Requirement already satisfied: regex>=2022.1.18 in /usr/local/lib/python3.10/dist-packages (from tiktoken==0.3.1->openai-whisper==20230314) (2022.10.31)\n",
            "Requirement already satisfied: requests>=2.26.0 in /usr/local/lib/python3.10/dist-packages (from tiktoken==0.3.1->openai-whisper==20230314) (2.27.1)\n",
            "Requirement already satisfied: cmake in /usr/local/lib/python3.10/dist-packages (from triton==2.0.0->openai-whisper==20230314) (3.25.2)\n",
            "Requirement already satisfied: filelock in /usr/local/lib/python3.10/dist-packages (from triton==2.0.0->openai-whisper==20230314) (3.12.0)\n",
            "Requirement already satisfied: lit in /usr/local/lib/python3.10/dist-packages (from triton==2.0.0->openai-whisper==20230314) (16.0.2)\n",
            "Requirement already satisfied: llvmlite<0.40,>=0.39.0dev0 in /usr/local/lib/python3.10/dist-packages (from numba->openai-whisper==20230314) (0.39.1)\n",
            "Requirement already satisfied: setuptools in /usr/local/lib/python3.10/dist-packages (from numba->openai-whisper==20230314) (67.7.2)\n",
            "Requirement already satisfied: typing-extensions in /usr/local/lib/python3.10/dist-packages (from torch->openai-whisper==20230314) (4.5.0)\n",
            "Requirement already satisfied: sympy in /usr/local/lib/python3.10/dist-packages (from torch->openai-whisper==20230314) (1.11.1)\n",
            "Requirement already satisfied: networkx in /usr/local/lib/python3.10/dist-packages (from torch->openai-whisper==20230314) (3.1)\n",
            "Requirement already satisfied: jinja2 in /usr/local/lib/python3.10/dist-packages (from torch->openai-whisper==20230314) (3.1.2)\n",
            "Requirement already satisfied: urllib3<1.27,>=1.21.1 in /usr/local/lib/python3.10/dist-packages (from requests>=2.26.0->tiktoken==0.3.1->openai-whisper==20230314) (1.26.15)\n",
            "Requirement already satisfied: certifi>=2017.4.17 in /usr/local/lib/python3.10/dist-packages (from requests>=2.26.0->tiktoken==0.3.1->openai-whisper==20230314) (2022.12.7)\n",
            "Requirement already satisfied: charset-normalizer~=2.0.0 in /usr/local/lib/python3.10/dist-packages (from requests>=2.26.0->tiktoken==0.3.1->openai-whisper==20230314) (2.0.12)\n",
            "Requirement already satisfied: idna<4,>=2.5 in /usr/local/lib/python3.10/dist-packages (from requests>=2.26.0->tiktoken==0.3.1->openai-whisper==20230314) (3.4)\n",
            "Requirement already satisfied: MarkupSafe>=2.0 in /usr/local/lib/python3.10/dist-packages (from jinja2->torch->openai-whisper==20230314) (2.1.2)\n",
            "Requirement already satisfied: mpmath>=0.19 in /usr/local/lib/python3.10/dist-packages (from sympy->torch->openai-whisper==20230314) (1.3.0)\n",
            "Reading package lists... Done\n",
            "Building dependency tree       \n",
            "Reading state information... Done\n",
            "ffmpeg is already the newest version (7:4.2.7-0ubuntu0.1).\n",
            "0 upgraded, 0 newly installed, 0 to remove and 24 not upgraded.\n",
            "Looking in indexes: https://pypi.org/simple, https://us-python.pkg.dev/colab-wheels/public/simple/\n",
            "Requirement already satisfied: pydub in /usr/local/lib/python3.10/dist-packages (0.25.1)\n"
          ]
        }
      ]
    },
    {
      "cell_type": "code",
      "source": [
        "import whisper\n",
        "from pydub import AudioSegment"
      ],
      "metadata": {
        "id": "N-b-C7irU4KC"
      },
      "execution_count": 2,
      "outputs": []
    },
    {
      "cell_type": "code",
      "source": [
        "#select small or medium or large\n",
        "#largeを選ぶと時間はかかるが，文字起こしの精度が上がる\n",
        "model = whisper.load_model(\"medium\")"
      ],
      "metadata": {
        "colab": {
          "base_uri": "https://localhost:8080/"
        },
        "id": "A8S4j2o_VDU1",
        "outputId": "05ad7537-1b06-4ccc-9fa0-535b14aa645e"
      },
      "execution_count": 11,
      "outputs": [
        {
          "output_type": "stream",
          "name": "stderr",
          "text": [
            "100%|█████████████████████████████████████| 1.42G/1.42G [00:28<00:00, 53.1MiB/s]\n"
          ]
        }
      ]
    },
    {
      "cell_type": "code",
      "source": [
        "# 音声ファイルを指定\n",
        "audio_file = \"松尾さん.mp3\""
      ],
      "metadata": {
        "id": "uUO-4G4IWbGY"
      },
      "execution_count": 4,
      "outputs": []
    },
    {
      "cell_type": "code",
      "source": [
        "segment_length = 30 * 1000  # ms\n",
        "sound = AudioSegment.from_file(audio_file, format=\"mp3\")"
      ],
      "metadata": {
        "id": "TtQVRT4XYcW4"
      },
      "execution_count": 6,
      "outputs": []
    },
    {
      "cell_type": "code",
      "source": [
        "# 30秒ごとに音声を切り出す\n",
        "segments = []\n",
        "for i in range(0, len(sound), segment_length):\n",
        "    segment = sound[i:i+segment_length]\n",
        "    segment_path = f\"segment_{i//segment_length}.mp3\"\n",
        "    segment.export(segment_path, format=\"mp3\")\n",
        "    segments.append(segment)"
      ],
      "metadata": {
        "id": "gXJJrxzvWczH"
      },
      "execution_count": 16,
      "outputs": []
    },
    {
      "cell_type": "code",
      "source": [
        "# 切り出された音声ファイルをリストに格納\n",
        "segment_paths = [f\"segment_{i}.mp3\" for i in range(len(segments))]"
      ],
      "metadata": {
        "id": "LP1QGgC5cNS9"
      },
      "execution_count": 17,
      "outputs": []
    },
    {
      "cell_type": "code",
      "source": [
        "#日本語指定で音声の文字起こし\n",
        "for i in range(len(segment_paths)):\n",
        "  result = model.transcribe(segment_paths[i], verbose=True, language=\"ja\")\n",
        "  print(result[\"text\"])"
      ],
      "metadata": {
        "colab": {
          "base_uri": "https://localhost:8080/"
        },
        "id": "EOqSCN0LcSTo",
        "outputId": "809a4438-c09b-4f0c-eaca-3293d04c957f"
      },
      "execution_count": 18,
      "outputs": [
        {
          "output_type": "stream",
          "name": "stdout",
          "text": [
            "[00:00.000 --> 00:10.000] おはようございます。\n",
            "[00:10.000 --> 00:20.000] まずは、松尾さんの職業に関する今現在やっていらっしゃることを聞いてみたいんですけれども、\n",
            "[00:20.000 --> 00:25.000] どのようなことをやっていらっしゃるのですか?\n",
            "[00:25.000 --> 00:30.000] おはようございます。\n",
            "おはようございます。まずは、松尾さんの職業に関する今現在やっていらっしゃることを聞いてみたいんですけれども、どのようなことをやっていらっしゃるのですか?おはようございます。\n",
            "[00:00.000 --> 00:05.000] 言うことでは言えないですけど\n",
            "[00:09.000 --> 00:13.000] 学生さんへの情報提供を\n",
            "[00:13.000 --> 00:19.000] 会社の学科に届いている記事や\n",
            "[00:21.000 --> 00:25.000] 学内キャリアセンターに届いている\n",
            "[00:25.000 --> 00:30.000] 文の中で学科に行かないとやる\n",
            "言うことでは言えないですけど学生さんへの情報提供を会社の学科に届いている記事や学内キャリアセンターに届いている文の中で学科に行かないとやる\n",
            "[00:00.000 --> 00:07.000] 会社でおじいさんが結構行っている会社とかを\n",
            "[00:07.000 --> 00:13.000] キャリアセンターでの求人は\n",
            "[00:13.000 --> 00:17.000] 一個一個探さないとどうしようもないんです\n",
            "[00:17.000 --> 00:23.000] 学科に直接届くのはそのまま載せればいいんですけど\n",
            "[00:23.000 --> 00:28.000] キャリアセンターの方の数がすごいので\n",
            "[00:28.000 --> 00:30.000] それを\n",
            "会社でおじいさんが結構行っている会社とかをキャリアセンターでの求人は一個一個探さないとどうしようもないんです学科に直接届くのはそのまま載せればいいんですけどキャリアセンターの方の数がすごいのでそれを\n",
            "[00:00.000 --> 00:02.000] つかないです\n",
            "[00:06.000 --> 00:11.000] 学生でも就職支援制度があると思うんですけど\n",
            "[00:11.000 --> 00:16.000] そちらに関してはどういったことをなさっているんですか\n",
            "[00:16.000 --> 00:27.000] 今先ほどのキャリアセンターからの就職情報を集めて\n",
            "[00:27.000 --> 00:29.000] 以上です\n",
            "つかないです学生でも就職支援制度があると思うんですけどそちらに関してはどういったことをなさっているんですか今先ほどのキャリアセンターからの就職情報を集めて以上です\n",
            "[00:00.000 --> 00:05.000] このホームページはですね\n",
            "[00:05.000 --> 00:10.000] 集めていらっしゃる情報を主食支援サイトに載せて\n",
            "[00:10.000 --> 00:12.000] そうです\n",
            "[00:18.000 --> 00:26.000] 他に主食支援サイトに関しての業務とか何か\n",
            "[00:26.000 --> 00:29.000] このサイトに関してです\n",
            "[00:29.000 --> 00:30.000] このサイトに\n",
            "このホームページはですね集めていらっしゃる情報を主食支援サイトに載せてそうです他に主食支援サイトに関しての業務とか何かこのサイトに関してですこのサイトに\n",
            "[00:00.000 --> 00:04.000] サイトに関して\n",
            "[00:04.000 --> 00:08.000] こちらのサイト結構更新とかしてる\n",
            "[00:08.000 --> 00:11.000] 更新はほぼ毎日ですね\n",
            "[00:11.000 --> 00:16.000] 通常の\n",
            "[00:16.000 --> 00:23.000] 集まってきたキャリアセンターからの\n",
            "[00:23.000 --> 00:24.320] 高น端\n",
            "サイトに関してこちらのサイト結構更新とかしてる更新はほぼ毎日ですね通常の集まってきたキャリアセンターからの高น端\n",
            "[00:00.000 --> 00:06.560] そのところに会社説明会の情報とかも載せてますよね\n",
            "[00:06.560 --> 00:12.960] その情報とかも更新されたらそれはもう陸並前延びから拾ってくるし\n",
            "[00:12.960 --> 00:16.560] それはキャリアセンターには載ってないので\n",
            "[00:16.560 --> 00:20.560] もう陸並前延びから拾ってきます\n",
            "[00:23.600 --> 00:28.720] あまりに求人情報が一覧が多すぎても\n",
            "そのところに会社説明会の情報とかも載せてますよねその情報とかも更新されたらそれはもう陸並前延びから拾ってくるしそれはキャリアセンターには載ってないのでもう陸並前延びから拾ってきますあまりに求人情報が一覧が多すぎても\n",
            "[00:00.000 --> 00:07.380] 多分見てないし、マリコナビ、マイナビも多すぎると思うんです。\n",
            "[00:07.380 --> 00:12.000] 学内のキャリアセンターの求人も多すぎると思います。\n",
            "[00:12.000 --> 00:29.980] だから、学科の求人知覧には、学科の学生さん優先で来られている会社の方とかも優先して乗せているので、\n",
            "[00:29.980 --> 00:31.980] 学生さんの方が優先してくれると、学生さんの方が優先してくれると、\n",
            "多分見てないし、マリコナビ、マイナビも多すぎると思うんです。学内のキャリアセンターの求人も多すぎると思います。だから、学科の求人知覧には、学科の学生さん優先で来られている会社の方とかも優先して乗せているので、学生さんの方が優先してくれると、学生さんの方が優先してくれると、\n",
            "[00:00.000 --> 00:08.200] 見やすいかと思うんですけど なかなか学生さんは利用はして\n",
            "[00:08.200 --> 00:22.080] くれてないようです 今逆求人が多いんですかね\n",
            "[00:22.080 --> 00:28.200] 陸なびとか前なびとかに登録して 色々アンケートに答えていったら\n",
            "[00:28.200 --> 00:31.560] 向こうからマッチング\n",
            "見やすいかと思うんですけど なかなか学生さんは利用はしてくれてないようです 今逆求人が多いんですかね陸なびとか前なびとかに登録して 色々アンケートに答えていったら向こうからマッチング\n",
            "[00:00.000 --> 00:08.280] しましたよみたいに向こうから 学生さんに向こうからアプローチ\n",
            "[00:08.280 --> 00:14.800] していけませんかみたいなのが 学生さんにとってはそれはすごい\n",
            "[00:14.800 --> 00:23.120] 楽だから結局そこを向けてもう 決まりましたみたいな学生さんも\n",
            "[00:23.120 --> 00:24.120] います今は\n",
            "しましたよみたいに向こうから 学生さんに向こうからアプローチしていけませんかみたいなのが 学生さんにとってはそれはすごい楽だから結局そこを向けてもう 決まりましたみたいな学生さんもいます今は\n"
          ]
        }
      ]
    }
  ]
}