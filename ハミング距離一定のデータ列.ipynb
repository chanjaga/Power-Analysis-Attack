{
  "nbformat": 4,
  "nbformat_minor": 0,
  "metadata": {
    "colab": {
      "provenance": [],
      "authorship_tag": "ABX9TyPaT6UrdrRR5H3KOU/6+Jxn",
      "include_colab_link": true
    },
    "kernelspec": {
      "name": "python3",
      "display_name": "Python 3"
    },
    "language_info": {
      "name": "python"
    }
  },
  "cells": [
    {
      "cell_type": "markdown",
      "metadata": {
        "id": "view-in-github",
        "colab_type": "text"
      },
      "source": [
        "<a href=\"https://colab.research.google.com/github/chanjaga/Power-Analysis-Attack/blob/main/%E3%83%8F%E3%83%9F%E3%83%B3%E3%82%B0%E8%B7%9D%E9%9B%A2%E4%B8%80%E5%AE%9A%E3%81%AE%E3%83%87%E3%83%BC%E3%82%BF%E5%88%97.ipynb\" target=\"_parent\"><img src=\"https://colab.research.google.com/assets/colab-badge.svg\" alt=\"Open In Colab\"/></a>"
      ]
    },
    {
      "cell_type": "code",
      "execution_count": 12,
      "metadata": {
        "id": "lkVFjGpcyqsY",
        "outputId": "a1cbe93f-c556-4806-df50-e26249e3dc95",
        "colab": {
          "base_uri": "https://localhost:8080/"
        }
      },
      "outputs": [
        {
          "output_type": "stream",
          "name": "stdout",
          "text": [
            "10010010110111111000011100110101\n",
            "01101101001000000111110111001010\n",
            "10010010110111111000001001111101\n",
            "01101101001000100111110110000011\n",
            "00010010110111011000011001111100\n",
            "11101101001000100111100100100011\n",
            "00011010110110011000011011011100\n",
            "11100100001001100111100110100011\n",
            "00011011110110011000111001010100\n",
            "11100101001001110111000110101011\n"
          ]
        }
      ],
      "source": [
        "#隣接するビット列のハミング距離が一定のデータ列生成\n",
        "import random\n",
        "\n",
        "#ビット列の長さを指定\n",
        "bit_length = 32\n",
        "\n",
        "#生成するビット列の個数を指定\n",
        "generate_times = 10\n",
        "\n",
        "#隣接するビット列間のハミング距離を指定\n",
        "hamming_distance = 30\n",
        "\n",
        "#隣接するビット列のハミング距離が一定のデータ列生成\n",
        "def ham(bit_length, generate_times, hamming_distance):\n",
        "  #初期値を乱数で生成\n",
        "  bitstream = [random.randint(0,1) for _ in range(bit_length)]\n",
        "  for _ in range(generate_times):\n",
        "\n",
        "    #反転箇所を指定するためのインデックス値生成\n",
        "    data_index = [i for i in range(bit_length)]                       \n",
        "    for _ in range(hamming_distance):\n",
        "\n",
        "      #反転箇所を乱数で指定\n",
        "      ham_index = data_index.pop(random.randint(0,len(data_index)-1))\n",
        "\n",
        "      #指定箇所のビット値を反転 \n",
        "      bitstream[ham_index] = abs(bitstream[ham_index] - 1)            \n",
        "    print(\"\".join(map(str,bitstream)))\n",
        "\n",
        "#実行\n",
        "if hamming_distance <= bit_length:\n",
        "  ham(bit_length, generate_times, hamming_distance)\n",
        "else:\n",
        "  print(\"***bit_length must be longer than hamming_distance***\")"
      ]
    }
  ]
}