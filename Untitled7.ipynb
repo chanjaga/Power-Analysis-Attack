{
  "nbformat": 4,
  "nbformat_minor": 0,
  "metadata": {
    "colab": {
      "provenance": [],
      "authorship_tag": "ABX9TyOO/xMWbIX+Upw1sLpdoM4J",
      "include_colab_link": true
    },
    "kernelspec": {
      "name": "python3",
      "display_name": "Python 3"
    },
    "language_info": {
      "name": "python"
    }
  },
  "cells": [
    {
      "cell_type": "markdown",
      "metadata": {
        "id": "view-in-github",
        "colab_type": "text"
      },
      "source": [
        "<a href=\"https://colab.research.google.com/github/chanjaga/Power-Analysis-Attack/blob/main/Untitled7.ipynb\" target=\"_parent\"><img src=\"https://colab.research.google.com/assets/colab-badge.svg\" alt=\"Open In Colab\"/></a>"
      ]
    },
    {
      "cell_type": "code",
      "execution_count": 101,
      "metadata": {
        "id": "qbwhkk8gXQQv"
      },
      "outputs": [],
      "source": [
        "import itertools\n",
        "import numpy as np"
      ]
    },
    {
      "cell_type": "code",
      "source": [
        "pre_data = [list(i) for i in itertools.product([0, 1], repeat=8)]\n",
        "data = [list(i) for i in itertools.product([0, 1], repeat=8)]"
      ],
      "metadata": {
        "id": "xpSn1CfsXVq-"
      },
      "execution_count": 102,
      "outputs": []
    },
    {
      "cell_type": "code",
      "source": [
        "select_index_1 = np.random.randint(0,255)\n",
        "select_index_2 = np.random.randint(0,255)  \n",
        "pre_ham = 0\n",
        "after_ham = 0"
      ],
      "metadata": {
        "id": "CnE8XkGKXdW-"
      },
      "execution_count": 103,
      "outputs": []
    },
    {
      "cell_type": "code",
      "source": [
        "print(f\"pre_data:{pre_data[select_index_1]}\")\n",
        "print(f\"data:    {data[select_index_2]}\")"
      ],
      "metadata": {
        "colab": {
          "base_uri": "https://localhost:8080/"
        },
        "id": "vADvx9WJY9p8",
        "outputId": "892e2c57-c57a-47d6-85df-a00ac71bc4ed"
      },
      "execution_count": 104,
      "outputs": [
        {
          "output_type": "stream",
          "name": "stdout",
          "text": [
            "pre_data:[1, 0, 0, 0, 1, 0, 0, 0]\n",
            "data:    [0, 0, 0, 0, 1, 1, 0, 1]\n"
          ]
        }
      ]
    },
    {
      "cell_type": "code",
      "source": [
        "for i in range(8):\n",
        "  if pre_data[select_index_1][i] != data[select_index_2][i]:\n",
        "    pre_ham += 1\n",
        "print(f\"pre_ham:{pre_ham}\")"
      ],
      "metadata": {
        "colab": {
          "base_uri": "https://localhost:8080/"
        },
        "id": "NnyS8t3jXueR",
        "outputId": "c92081e1-36e0-4565-b145-a5b23158015b"
      },
      "execution_count": 105,
      "outputs": [
        {
          "output_type": "stream",
          "name": "stdout",
          "text": [
            "pre_ham:3\n"
          ]
        }
      ]
    },
    {
      "cell_type": "code",
      "source": [
        "for i in range(8):\n",
        "  if data[select_index_2][i] == 1:\n",
        "    data[select_index_2][i] = 0\n",
        "  else:\n",
        "    data[select_index_2][i] = 0\n",
        "print(f\"data:    {data[select_index_2]}\")"
      ],
      "metadata": {
        "colab": {
          "base_uri": "https://localhost:8080/"
        },
        "id": "gIxLuZLeYSjn",
        "outputId": "c064591e-ac7a-4f99-c7ab-86404f9e0bad"
      },
      "execution_count": 106,
      "outputs": [
        {
          "output_type": "stream",
          "name": "stdout",
          "text": [
            "data:    [0, 0, 0, 0, 0, 0, 0, 0]\n"
          ]
        }
      ]
    },
    {
      "cell_type": "code",
      "source": [
        "for i in range(8):\n",
        "  if pre_data[select_index_1][i] == data[select_index_2][i]:\n",
        "    after_ham += 1\n",
        "print(f\"after_ham:{after_ham}\")    "
      ],
      "metadata": {
        "colab": {
          "base_uri": "https://localhost:8080/"
        },
        "id": "guZoY_L2YTJv",
        "outputId": "75aa79db-d5de-4f9a-9ad1-d6f8df49ab1b"
      },
      "execution_count": 107,
      "outputs": [
        {
          "output_type": "stream",
          "name": "stdout",
          "text": [
            "after_ham:6\n"
          ]
        }
      ]
    },
    {
      "cell_type": "code",
      "source": [
        "if pre_ham + after_ham == 8:\n",
        "  print(\"Yes\")"
      ],
      "metadata": {
        "id": "dSz9hL2uYtx5"
      },
      "execution_count": 108,
      "outputs": []
    },
    {
      "cell_type": "code",
      "source": [],
      "metadata": {
        "id": "OfSrGHuyY0vH"
      },
      "execution_count": null,
      "outputs": []
    }
  ]
}