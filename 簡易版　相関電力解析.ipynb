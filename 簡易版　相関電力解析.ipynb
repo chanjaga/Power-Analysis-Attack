{
  "nbformat": 4,
  "nbformat_minor": 0,
  "metadata": {
    "colab": {
      "provenance": [],
      "authorship_tag": "ABX9TyO3oDo/77B1Ra178Kq0JNzQ",
      "include_colab_link": true
    },
    "kernelspec": {
      "name": "python3",
      "display_name": "Python 3"
    },
    "language_info": {
      "name": "python"
    }
  },
  "cells": [
    {
      "cell_type": "markdown",
      "metadata": {
        "id": "view-in-github",
        "colab_type": "text"
      },
      "source": [
        "<a href=\"https://colab.research.google.com/github/chanjaga/Power-Analysis-Attack/blob/main/%E7%B0%A1%E6%98%93%E7%89%88%E3%80%80%E7%9B%B8%E9%96%A2%E9%9B%BB%E5%8A%9B%E8%A7%A3%E6%9E%90.ipynb\" target=\"_parent\"><img src=\"https://colab.research.google.com/assets/colab-badge.svg\" alt=\"Open In Colab\"/></a>"
      ]
    },
    {
      "cell_type": "code",
      "execution_count": 423,
      "metadata": {
        "id": "tXh7zp8bER2E"
      },
      "outputs": [],
      "source": [
        "#簡易版　相関電力解析\n",
        "import itertools\n",
        "import numpy as np\n",
        "import matplotlib.pyplot as plt\n",
        "from scipy.spatial import distance"
      ]
    },
    {
      "cell_type": "code",
      "source": [
        "#平文\n",
        "plaintext = [list(i) for i in itertools.product([0, 1], repeat=8)]\n",
        "\n",
        "#8bit予測鍵の生成\n",
        "pre_round_key = [list(i) for i in itertools.product([0, 1], repeat=8)]\n",
        "\n",
        "#トレース観測回数\n",
        "obs_trace_times = 75000"
      ],
      "metadata": {
        "id": "knVOMmz8Lmfq"
      },
      "execution_count": 424,
      "outputs": []
    },
    {
      "cell_type": "code",
      "source": [
        "#リーケージモデル\n",
        "def leakage_model(pre_round_key,plaintext):\n",
        "  leakage = [[0]*2**8]*2**8\n",
        "  for i in range(2**8):\n",
        "    for j in range(2**8):\n",
        "      leakage[i][j] = distance.hamming(pre_round_key[i],plaintext[j]) + j*0.01 \n",
        "  return leakage"
      ],
      "metadata": {
        "id": "y3ah92aoKqCX"
      },
      "execution_count": 425,
      "outputs": []
    },
    {
      "cell_type": "code",
      "source": [
        "#リーケージモデルに基づいた予測トレース（リーケージ）の生成\n",
        "pre_trace = leakage_model(plaintext,pre_round_key)"
      ],
      "metadata": {
        "id": "lYNKr9mILgY-"
      },
      "execution_count": 426,
      "outputs": []
    },
    {
      "cell_type": "code",
      "source": [
        "#相関電力解析\n",
        "def cpa(pre_trace,obs_trace):\n",
        "  analysis_times = int(obs_trace_times/len(pre_trace[0])) * len(pre_trace[0])\n",
        "\n",
        "  #解析\n",
        "  correlation = [0]*analysis_times\n",
        "  result_correlation = []\n",
        "  for i in range(analysis_times):\n",
        "    if len(obs_trace[i:i+256]) == 256:\n",
        "      correlation[i] = np.corrcoef(pre_trace[0],obs_trace[i:i+256])\n",
        "      #相関係数の取得\n",
        "      result_correlation.append(correlation[i][1][0])\n",
        "      #print(f\"{i}回目:{result_correlation[i]}\")\n",
        "\n",
        "  #解析毎の相関係数のプロット\n",
        "  plt.plot(result_correlation)\n",
        "  plt.show()\n",
        "\n",
        "  #相関係数を用いたラウンド鍵の特定\n",
        "  round_key_index = result_correlation.index(max(result_correlation)) % 256\n",
        "  print(f\"ラウンド鍵は{pre_round_key[round_key_index]}です\")"
      ],
      "metadata": {
        "id": "KnDH9vKFGrvC"
      },
      "execution_count": 427,
      "outputs": []
    },
    {
      "cell_type": "code",
      "source": [
        "#観測トレース\n",
        "obs_trace = []\n",
        "for i in range(obs_trace_times):\n",
        "    obs_trace.append(abs(np.random.normal())) #ダミートレース"
      ],
      "metadata": {
        "id": "RXSM7OJkugAP"
      },
      "execution_count": 428,
      "outputs": []
    },
    {
      "cell_type": "code",
      "source": [
        "#解析実行\n",
        "cpa(pre_trace,obs_trace)"
      ],
      "metadata": {
        "colab": {
          "base_uri": "https://localhost:8080/",
          "height": 283
        },
        "id": "NCUfHrhBR_Xb",
        "outputId": "6d21bf77-40fb-429a-e9a0-6561dcbb7140"
      },
      "execution_count": 429,
      "outputs": [
        {
          "output_type": "display_data",
          "data": {
            "text/plain": [
              "<Figure size 432x288 with 1 Axes>"
            ],
            "image/png": "[encoded data removed]"
          },
          "metadata": {
            "needs_background": "light"
          }
        },
        {
          "output_type": "stream",
          "name": "stdout",
          "text": [
            "ラウンド鍵は[0, 0, 0, 1, 0, 1, 1, 1]です\n"
          ]
        }
      ]
    },
    {
      "cell_type": "code",
      "source": [],
      "metadata": {
        "id": "TEuT6Gg2b-so"
      },
      "execution_count": null,
      "outputs": []
    }
  ]
}