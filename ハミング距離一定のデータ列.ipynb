{
  "nbformat": 4,
  "nbformat_minor": 0,
  "metadata": {
    "colab": {
      "provenance": [],
      "authorship_tag": "ABX9TyOuc4Hj3i8uvhIk6yknccyr",
      "include_colab_link": true
    },
    "kernelspec": {
      "name": "python3",
      "display_name": "Python 3"
    },
    "language_info": {
      "name": "python"
    }
  },
  "cells": [
    {
      "cell_type": "markdown",
      "metadata": {
        "id": "view-in-github",
        "colab_type": "text"
      },
      "source": [
        "<a href=\"https://colab.research.google.com/github/chanjaga/Power-Analysis-Attack/blob/main/%E3%83%8F%E3%83%9F%E3%83%B3%E3%82%B0%E8%B7%9D%E9%9B%A2%E4%B8%80%E5%AE%9A%E3%81%AE%E3%83%87%E3%83%BC%E3%82%BF%E5%88%97.ipynb\" target=\"_parent\"><img src=\"https://colab.research.google.com/assets/colab-badge.svg\" alt=\"Open In Colab\"/></a>"
      ]
    },
    {
      "cell_type": "code",
      "execution_count": 11,
      "metadata": {
        "id": "lkVFjGpcyqsY",
        "outputId": "67dc228c-cb11-468a-e2b4-a7d12713840f",
        "colab": {
          "base_uri": "https://localhost:8080/"
        }
      },
      "outputs": [
        {
          "output_type": "stream",
          "name": "stdout",
          "text": [
            "10110010001110011100010110101011\n",
            "01001101100001100011101001010101\n",
            "10110110011110010100010110101010\n",
            "01001001101001101011101001010100\n",
            "10110110010110010100100110101011\n",
            "00001001101001101011011001010101\n",
            "10110110010110010100100010101010\n",
            "01001011101001101011011001010101\n",
            "10110100010110010101100110100010\n",
            "00011011101001101010011001011101\n"
          ]
        }
      ],
      "source": [
        "#隣接するビット列のハミング距離が一定のデータ列生成\n",
        "import random\n",
        "\n",
        "#ビット列の長さを指定\n",
        "bit_length = 32\n",
        "\n",
        "#生成するビット列の個数を指定\n",
        "generate_times = 10\n",
        "\n",
        "#隣接するビット列間のハミング距離を指定\n",
        "hamming_distance = 30\n",
        "\n",
        "#初期値を乱数で生成\n",
        "bitstream = [random.randint(0,1) for _ in range(bit_length)]\n",
        "\n",
        "#隣接するビット列のハミング距離が一定のデータ列生成\n",
        "def ham(bitstream, hamming_distance, generate_times):\n",
        "  for _ in range(generate_times):\n",
        "    data_index = [i for i in range(bit_length)]                       #反転箇所を指定するためのインデックス値生成\n",
        "    for _ in range(hamming_distance):\n",
        "      ham_index = data_index.pop(random.randint(0,len(data_index)-1)) #反転箇所を乱数で指定\n",
        "      bitstream[ham_index] = abs(bitstream[ham_index] - 1)            #指定箇所のビット値を反転\n",
        "    print(\"\".join(map(str,bitstream)))\n",
        "\n",
        "#実行\n",
        "if hamming_distance <= bit_length:\n",
        "  ham(bitstream, hamming_distance, generate_times)\n",
        "else:\n",
        "  print(\"***bit_length must be longer than hamming_distance***\")"
      ]
    }
  ]
}